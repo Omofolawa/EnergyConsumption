{
 "cells": [
  {
   "cell_type": "markdown",
   "id": "f469f019-a80b-4dcf-b534-90c21d939c4f",
   "metadata": {},
   "source": [
    "### SIMULATING METER DATA"
   ]
  },
  {
   "cell_type": "code",
   "execution_count": 5,
   "id": "f490efe7-a16e-4d41-aa85-98b44537e0c9",
   "metadata": {},
   "outputs": [
    {
     "name": "stdout",
     "output_type": "stream",
     "text": [
      "Success!\n"
     ]
    }
   ],
   "source": [
    "import pandas as pd\n",
    "import numpy as np\n",
    "from datetime import datetime, timedelta\n",
    "\n",
    "# Generate 7 days of 15-min interval data for 3 customers\n",
    "def generate_meter_data():\n",
    "    meters = {\n",
    "        'M001': 1001,\n",
    "        'M002': 1002, \n",
    "        'M003': 1003\n",
    "    }\n",
    "    timestamps = pd.date_range(\n",
    "        start=datetime.now() - timedelta(days=7),\n",
    "        end=datetime.now(),\n",
    "        freq='15min'  # 15 minutes\n",
    "    )\n",
    "    \n",
    "    data = []\n",
    "    for meter, cust in meters.items():\n",
    "        for ts in timestamps:\n",
    "            # Base usage + daytime spike + random noise\n",
    "            base = 0.5 if cust == 1001 else (2.0 if cust == 1002 else 1.2)\n",
    "            spike = 1.5 if 8 <= ts.hour <= 20 else 0.8  # Daytime increase\n",
    "            usage = max(0.1, (base * spike)) * (1 + np.random.uniform(-0.2, 0.2))\n",
    "            \n",
    "            data.append({\n",
    "                \"MeterID\": meter,\n",
    "                \"CustomerID\": cust,\n",
    "                \"Timestamp\": ts.strftime(\"%Y-%m-%d %H:%M:%S\"),\n",
    "                \"kWh\": round(usage, 2)\n",
    "            })\n",
    "    \n",
    "    pd.DataFrame(data).to_csv(\"meter_readings.csv\", index=False)\n",
    "\n",
    "generate_meter_data()\n",
    "print(\"Success!\")"
   ]
  },
  {
   "cell_type": "code",
   "execution_count": null,
   "id": "b521276d-7f54-490a-9266-6dcc3c178b8c",
   "metadata": {},
   "outputs": [],
   "source": []
  }
 ],
 "metadata": {
  "kernelspec": {
   "display_name": "Python 3 (ipykernel)",
   "language": "python",
   "name": "python3"
  },
  "language_info": {
   "codemirror_mode": {
    "name": "ipython",
    "version": 3
   },
   "file_extension": ".py",
   "mimetype": "text/x-python",
   "name": "python",
   "nbconvert_exporter": "python",
   "pygments_lexer": "ipython3",
   "version": "3.11.9"
  }
 },
 "nbformat": 4,
 "nbformat_minor": 5
}
